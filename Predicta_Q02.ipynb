{
 "cells": [
  {
   "metadata": {
    "ExecuteTime": {
     "end_time": "2024-06-22T14:48:56.957453Z",
     "start_time": "2024-06-22T14:48:56.948939Z"
    }
   },
   "cell_type": "code",
   "source": [
    "import pandas as pd\n",
    "import numpy as np\n",
    "import matplotlib.pyplot as plt\n",
    "from sklearn.preprocessing import StandardScaler, MinMaxScaler\n",
    "from sklearn.feature_selection import SelectKBest, mutual_info_classif, RFECV\n",
    "from sklearn.model_selection import StratifiedKFold, train_test_split, cross_val_score\n",
    "from sklearn.metrics import accuracy_score, classification_report\n",
    "from sklearn.ensemble import RandomForestClassifier\n",
    "from imblearn.over_sampling import SMOTE\n",
    "from sklearn.utils.class_weight import compute_class_weight"
   ],
   "id": "a588b1e800bb52b2",
   "outputs": [],
   "execution_count": 754
  },
  {
   "metadata": {
    "ExecuteTime": {
     "end_time": "2024-06-22T14:48:57.143944Z",
     "start_time": "2024-06-22T14:48:57.137425Z"
    }
   },
   "cell_type": "code",
   "source": [
    "def encode_condition_text(condition_text):\n",
    "    conditions = { \n",
    "        \"Clear and Sunny\": 0, \"Partly Cloudy\": 1, \"Light Precipitation\": 2, \"Cloudy and Overcast\": 3,\n",
    "        \"Mist or Fog\": 4, \"Rain Showers\": 5, \"Light Rain with Thunder\": 6, \"Thunderstorms\": 7, \"Moderate to Heavy Rain\": 8 \n",
    "    }\n",
    "    return conditions.get(condition_text, None)\n",
    "\n",
    "def decode_condition_text(encoded_condition):\n",
    "    conditions = {\n",
    "        0: \"Clear and Sunny\", 1: \"Partly Cloudy\", 2: \"Light Precipitation\", 3: \"Cloudy and Overcast\",\n",
    "        4: \"Mist or Fog\", 5: \"Rain Showers\", 6: \"Light Rain with Thunder\", 7: \"Thunderstorms\", 8: \"Moderate to Heavy Rain\" \n",
    "    }\n",
    "    return conditions.get(encoded_condition, None)"
   ],
   "id": "b987327652945c23",
   "outputs": [],
   "execution_count": 755
  },
  {
   "metadata": {
    "ExecuteTime": {
     "end_time": "2024-06-22T14:48:57.175132Z",
     "start_time": "2024-06-22T14:48:57.159266Z"
    }
   },
   "cell_type": "code",
   "source": [
    "def time_to_minutes(time_str):\n",
    "    # Split the time into components\n",
    "    time, period = time_str.split()\n",
    "    hours, minutes = map(int, time.split(':'))\n",
    "\n",
    "    # Convert hours to 24-hour format\n",
    "    if period == 'PM' and hours != 12:\n",
    "        hours += 12\n",
    "    if period == 'AM' and hours == 12:\n",
    "        hours = 0\n",
    "\n",
    "    # Calculate minutes from midnight\n",
    "    total_minutes = hours * 60 + minutes\n",
    "    return total_minutes"
   ],
   "id": "e03e8ff7a0d0a42c",
   "outputs": [],
   "execution_count": 756
  },
  {
   "metadata": {
    "ExecuteTime": {
     "end_time": "2024-06-22T14:48:57.190647Z",
     "start_time": "2024-06-22T14:48:57.177141Z"
    }
   },
   "cell_type": "code",
   "source": [
    "def evaluate_model(random_state):\n",
    "    class_weights = {\n",
    "        0: 1, 1: 1, 2: 1, 3: 1, 4: 1, 5: 3, 6: 2, 7: 1, 8: 1, 9: 1, 10: 1, 11: 1, 12: 1\n",
    "    }\n",
    "    model = RandomForestClassifier(random_state=random_state)\n",
    "    model.fit(x_train, y_train)\n",
    "    y_pred = model.predict(x_test)\n",
    "    accuracy = accuracy_score(y_test, y_pred)\n",
    "    cvs = cross_val_score(model, X, Y, cv=5).mean()\n",
    "    return accuracy, cvs, model"
   ],
   "id": "d75f49d6421e7780",
   "outputs": [],
   "execution_count": 757
  },
  {
   "metadata": {
    "ExecuteTime": {
     "end_time": "2024-06-22T14:48:57.221791Z",
     "start_time": "2024-06-22T14:48:57.203166Z"
    }
   },
   "cell_type": "code",
   "source": [
    "def feature_selection_cv(X, Y, estimator, k_features):\n",
    "    selector = SelectKBest(score_func=mutual_info_classif, k=k_features)\n",
    "    X_selected = selector.fit_transform(X, Y)\n",
    "    scores = cross_val_score(estimator, X_selected, Y, cv=5, scoring='accuracy')\n",
    "    return scores.mean()"
   ],
   "id": "98a8b11682478595",
   "outputs": [],
   "execution_count": 758
  },
  {
   "metadata": {
    "ExecuteTime": {
     "end_time": "2024-06-22T14:48:57.237314Z",
     "start_time": "2024-06-22T14:48:57.224793Z"
    }
   },
   "cell_type": "code",
   "source": "df = pd.read_csv('data/daily_data.csv')",
   "id": "f7798f38aa3f19a9",
   "outputs": [],
   "execution_count": 759
  },
  {
   "metadata": {
    "ExecuteTime": {
     "end_time": "2024-06-22T14:48:57.299798Z",
     "start_time": "2024-06-22T14:48:57.284271Z"
    }
   },
   "cell_type": "code",
   "source": "df.info()",
   "id": "fac2bbbcb24a9e66",
   "outputs": [
    {
     "name": "stdout",
     "output_type": "stream",
     "text": [
      "<class 'pandas.core.frame.DataFrame'>\n",
      "RangeIndex: 2893 entries, 0 to 2892\n",
      "Data columns (total 17 columns):\n",
      " #   Column                    Non-Null Count  Dtype  \n",
      "---  ------                    --------------  -----  \n",
      " 0   day_id                    2893 non-null   object \n",
      " 1   city_id                   2893 non-null   object \n",
      " 2   temperature_celsius       2893 non-null   float64\n",
      " 3   condition_text            479 non-null    object \n",
      " 4   wind_kph                  2893 non-null   float64\n",
      " 5   wind_degree               2893 non-null   int64  \n",
      " 6   pressure_mb               2893 non-null   float64\n",
      " 7   precip_mm                 2893 non-null   float64\n",
      " 8   humidity                  2893 non-null   int64  \n",
      " 9   cloud                     2893 non-null   int64  \n",
      " 10  feels_like_celsius        2893 non-null   float64\n",
      " 11  visibility_km             2893 non-null   float64\n",
      " 12  uv_index                  2893 non-null   float64\n",
      " 13  gust_kph                  2893 non-null   float64\n",
      " 14  air_quality_us-epa-index  2893 non-null   int64  \n",
      " 15  sunrise                   2893 non-null   object \n",
      " 16  sunset                    2893 non-null   object \n",
      "dtypes: float64(8), int64(4), object(5)\n",
      "memory usage: 384.4+ KB\n"
     ]
    }
   ],
   "execution_count": 760
  },
  {
   "metadata": {
    "ExecuteTime": {
     "end_time": "2024-06-22T14:48:57.330837Z",
     "start_time": "2024-06-22T14:48:57.317325Z"
    }
   },
   "cell_type": "code",
   "source": "df.isna().sum()",
   "id": "1f58d33a2c21eb27",
   "outputs": [
    {
     "data": {
      "text/plain": [
       "day_id                         0\n",
       "city_id                        0\n",
       "temperature_celsius            0\n",
       "condition_text              2414\n",
       "wind_kph                       0\n",
       "wind_degree                    0\n",
       "pressure_mb                    0\n",
       "precip_mm                      0\n",
       "humidity                       0\n",
       "cloud                          0\n",
       "feels_like_celsius             0\n",
       "visibility_km                  0\n",
       "uv_index                       0\n",
       "gust_kph                       0\n",
       "air_quality_us-epa-index       0\n",
       "sunrise                        0\n",
       "sunset                         0\n",
       "dtype: int64"
      ]
     },
     "execution_count": 761,
     "metadata": {},
     "output_type": "execute_result"
    }
   ],
   "execution_count": 761
  },
  {
   "metadata": {
    "ExecuteTime": {
     "end_time": "2024-06-22T14:48:57.409020Z",
     "start_time": "2024-06-22T14:48:57.395503Z"
    }
   },
   "cell_type": "code",
   "source": "df.nunique()",
   "id": "69f05874a6181bb7",
   "outputs": [
    {
     "data": {
      "text/plain": [
       "day_id                      2893\n",
       "city_id                      112\n",
       "temperature_celsius          191\n",
       "condition_text                 9\n",
       "wind_kph                      84\n",
       "wind_degree                  281\n",
       "pressure_mb                   49\n",
       "precip_mm                    122\n",
       "humidity                      94\n",
       "cloud                         87\n",
       "feels_like_celsius           394\n",
       "visibility_km                 30\n",
       "uv_index                      10\n",
       "gust_kph                     374\n",
       "air_quality_us-epa-index       6\n",
       "sunrise                      168\n",
       "sunset                       198\n",
       "dtype: int64"
      ]
     },
     "execution_count": 762,
     "metadata": {},
     "output_type": "execute_result"
    }
   ],
   "execution_count": 762
  },
  {
   "metadata": {
    "ExecuteTime": {
     "end_time": "2024-06-22T14:48:57.455580Z",
     "start_time": "2024-06-22T14:48:57.442058Z"
    }
   },
   "cell_type": "code",
   "source": "df[\"city_id\"].value_counts()",
   "id": "4bfd5f44121c7805",
   "outputs": [
    {
     "data": {
      "text/plain": [
       "city_id\n",
       "C001    26\n",
       "C002    26\n",
       "C003    26\n",
       "C004    26\n",
       "C005    26\n",
       "        ..\n",
       "C109    26\n",
       "C070    25\n",
       "C094    25\n",
       "C104    25\n",
       "C105    10\n",
       "Name: count, Length: 112, dtype: int64"
      ]
     },
     "execution_count": 763,
     "metadata": {},
     "output_type": "execute_result"
    }
   ],
   "execution_count": 763
  },
  {
   "metadata": {
    "ExecuteTime": {
     "end_time": "2024-06-22T14:48:57.563952Z",
     "start_time": "2024-06-22T14:48:57.550444Z"
    }
   },
   "cell_type": "code",
   "source": "df.head()",
   "id": "225a6d9ebd0e09a5",
   "outputs": [
    {
     "data": {
      "text/plain": [
       "  day_id city_id  temperature_celsius           condition_text  wind_kph  \\\n",
       "0  D0001    C001                 27.0                      NaN       6.1   \n",
       "1  D0002    C001                 22.0                      NaN       6.1   \n",
       "2  D0003    C001                 20.0  Light Rain with Thunder       3.6   \n",
       "3  D0004    C001                 17.0          Clear and Sunny       6.1   \n",
       "4  D0005    C001                 18.0                      NaN       3.6   \n",
       "\n",
       "   wind_degree  pressure_mb  precip_mm  humidity  cloud  feels_like_celsius  \\\n",
       "0          210       1006.0        0.0        54     75                28.0   \n",
       "1          170       1006.0        0.0        73     75                24.5   \n",
       "2           10       1011.0        4.5       100     75                20.0   \n",
       "3          150       1018.0        0.0        88      0                17.0   \n",
       "4           92       1019.0        0.0        94      0                18.0   \n",
       "\n",
       "   visibility_km  uv_index  gust_kph  air_quality_us-epa-index   sunrise  \\\n",
       "0           10.0       6.0      11.9                         2  06:04 AM   \n",
       "1           10.0       1.0      23.4                         1  06:05 AM   \n",
       "2           10.0       1.0      12.6                         1  06:05 AM   \n",
       "3           10.0       1.0      11.2                         1  06:06 AM   \n",
       "4           10.0       1.0       9.0                         1  06:07 AM   \n",
       "\n",
       "     sunset  \n",
       "0  07:19 PM  \n",
       "1  07:18 PM  \n",
       "2  07:18 PM  \n",
       "3  07:16 PM  \n",
       "4  07:15 PM  "
      ],
      "text/html": [
       "<div>\n",
       "<style scoped>\n",
       "    .dataframe tbody tr th:only-of-type {\n",
       "        vertical-align: middle;\n",
       "    }\n",
       "\n",
       "    .dataframe tbody tr th {\n",
       "        vertical-align: top;\n",
       "    }\n",
       "\n",
       "    .dataframe thead th {\n",
       "        text-align: right;\n",
       "    }\n",
       "</style>\n",
       "<table border=\"1\" class=\"dataframe\">\n",
       "  <thead>\n",
       "    <tr style=\"text-align: right;\">\n",
       "      <th></th>\n",
       "      <th>day_id</th>\n",
       "      <th>city_id</th>\n",
       "      <th>temperature_celsius</th>\n",
       "      <th>condition_text</th>\n",
       "      <th>wind_kph</th>\n",
       "      <th>wind_degree</th>\n",
       "      <th>pressure_mb</th>\n",
       "      <th>precip_mm</th>\n",
       "      <th>humidity</th>\n",
       "      <th>cloud</th>\n",
       "      <th>feels_like_celsius</th>\n",
       "      <th>visibility_km</th>\n",
       "      <th>uv_index</th>\n",
       "      <th>gust_kph</th>\n",
       "      <th>air_quality_us-epa-index</th>\n",
       "      <th>sunrise</th>\n",
       "      <th>sunset</th>\n",
       "    </tr>\n",
       "  </thead>\n",
       "  <tbody>\n",
       "    <tr>\n",
       "      <th>0</th>\n",
       "      <td>D0001</td>\n",
       "      <td>C001</td>\n",
       "      <td>27.0</td>\n",
       "      <td>NaN</td>\n",
       "      <td>6.1</td>\n",
       "      <td>210</td>\n",
       "      <td>1006.0</td>\n",
       "      <td>0.0</td>\n",
       "      <td>54</td>\n",
       "      <td>75</td>\n",
       "      <td>28.0</td>\n",
       "      <td>10.0</td>\n",
       "      <td>6.0</td>\n",
       "      <td>11.9</td>\n",
       "      <td>2</td>\n",
       "      <td>06:04 AM</td>\n",
       "      <td>07:19 PM</td>\n",
       "    </tr>\n",
       "    <tr>\n",
       "      <th>1</th>\n",
       "      <td>D0002</td>\n",
       "      <td>C001</td>\n",
       "      <td>22.0</td>\n",
       "      <td>NaN</td>\n",
       "      <td>6.1</td>\n",
       "      <td>170</td>\n",
       "      <td>1006.0</td>\n",
       "      <td>0.0</td>\n",
       "      <td>73</td>\n",
       "      <td>75</td>\n",
       "      <td>24.5</td>\n",
       "      <td>10.0</td>\n",
       "      <td>1.0</td>\n",
       "      <td>23.4</td>\n",
       "      <td>1</td>\n",
       "      <td>06:05 AM</td>\n",
       "      <td>07:18 PM</td>\n",
       "    </tr>\n",
       "    <tr>\n",
       "      <th>2</th>\n",
       "      <td>D0003</td>\n",
       "      <td>C001</td>\n",
       "      <td>20.0</td>\n",
       "      <td>Light Rain with Thunder</td>\n",
       "      <td>3.6</td>\n",
       "      <td>10</td>\n",
       "      <td>1011.0</td>\n",
       "      <td>4.5</td>\n",
       "      <td>100</td>\n",
       "      <td>75</td>\n",
       "      <td>20.0</td>\n",
       "      <td>10.0</td>\n",
       "      <td>1.0</td>\n",
       "      <td>12.6</td>\n",
       "      <td>1</td>\n",
       "      <td>06:05 AM</td>\n",
       "      <td>07:18 PM</td>\n",
       "    </tr>\n",
       "    <tr>\n",
       "      <th>3</th>\n",
       "      <td>D0004</td>\n",
       "      <td>C001</td>\n",
       "      <td>17.0</td>\n",
       "      <td>Clear and Sunny</td>\n",
       "      <td>6.1</td>\n",
       "      <td>150</td>\n",
       "      <td>1018.0</td>\n",
       "      <td>0.0</td>\n",
       "      <td>88</td>\n",
       "      <td>0</td>\n",
       "      <td>17.0</td>\n",
       "      <td>10.0</td>\n",
       "      <td>1.0</td>\n",
       "      <td>11.2</td>\n",
       "      <td>1</td>\n",
       "      <td>06:06 AM</td>\n",
       "      <td>07:16 PM</td>\n",
       "    </tr>\n",
       "    <tr>\n",
       "      <th>4</th>\n",
       "      <td>D0005</td>\n",
       "      <td>C001</td>\n",
       "      <td>18.0</td>\n",
       "      <td>NaN</td>\n",
       "      <td>3.6</td>\n",
       "      <td>92</td>\n",
       "      <td>1019.0</td>\n",
       "      <td>0.0</td>\n",
       "      <td>94</td>\n",
       "      <td>0</td>\n",
       "      <td>18.0</td>\n",
       "      <td>10.0</td>\n",
       "      <td>1.0</td>\n",
       "      <td>9.0</td>\n",
       "      <td>1</td>\n",
       "      <td>06:07 AM</td>\n",
       "      <td>07:15 PM</td>\n",
       "    </tr>\n",
       "  </tbody>\n",
       "</table>\n",
       "</div>"
      ]
     },
     "execution_count": 764,
     "metadata": {},
     "output_type": "execute_result"
    }
   ],
   "execution_count": 764
  },
  {
   "metadata": {
    "ExecuteTime": {
     "end_time": "2024-06-22T14:48:57.609650Z",
     "start_time": "2024-06-22T14:48:57.599134Z"
    }
   },
   "cell_type": "code",
   "source": "df = df.drop(columns=[\"city_id\", \"gust_kph\"])",
   "id": "17cd9be459d1171f",
   "outputs": [],
   "execution_count": 765
  },
  {
   "metadata": {
    "ExecuteTime": {
     "end_time": "2024-06-22T14:48:57.688247Z",
     "start_time": "2024-06-22T14:48:57.674214Z"
    }
   },
   "cell_type": "code",
   "source": [
    "df[\"sunrise\"] = df[\"sunrise\"].apply(lambda x: time_to_minutes(x))\n",
    "df[\"sunset\"] = df[\"sunset\"].apply(lambda x: time_to_minutes(x))"
   ],
   "id": "c85035cf4f1b6900",
   "outputs": [],
   "execution_count": 766
  },
  {
   "metadata": {
    "ExecuteTime": {
     "end_time": "2024-06-22T14:48:57.734853Z",
     "start_time": "2024-06-22T14:48:57.728715Z"
    }
   },
   "cell_type": "code",
   "source": [
    "df[\"sun_duration\"] = df[\"sunset\"] - df[\"sunrise\"]\n",
    "df.drop(columns=[\"sunrise\", \"sunset\"], inplace=True)"
   ],
   "id": "9463d8008c190148",
   "outputs": [],
   "execution_count": 767
  },
  {
   "metadata": {
    "ExecuteTime": {
     "end_time": "2024-06-22T14:48:57.861138Z",
     "start_time": "2024-06-22T14:48:57.847627Z"
    }
   },
   "cell_type": "code",
   "source": [
    "df[\"temperature\"] = (df[\"temperature_celsius\"] + df[\"feels_like_celsius\"]) / 2\n",
    "df.drop(columns=[\"temperature_celsius\", \"feels_like_celsius\"], inplace=True)"
   ],
   "id": "560bf74e223fef3c",
   "outputs": [],
   "execution_count": 768
  },
  {
   "metadata": {
    "ExecuteTime": {
     "end_time": "2024-06-22T14:48:57.892684Z",
     "start_time": "2024-06-22T14:48:57.872652Z"
    }
   },
   "cell_type": "code",
   "source": [
    "df_known = df[df[\"condition_text\"].notnull()]\n",
    "df_unknown = df[df[\"condition_text\"].isnull()]"
   ],
   "id": "f503b8e9a917db35",
   "outputs": [],
   "execution_count": 769
  },
  {
   "metadata": {
    "ExecuteTime": {
     "end_time": "2024-06-22T14:48:57.923047Z",
     "start_time": "2024-06-22T14:48:57.912530Z"
    }
   },
   "cell_type": "code",
   "source": [
    "df_known_copy = df_known.copy()\n",
    "df_known.drop(columns=[\"day_id\"], inplace=True)"
   ],
   "id": "95a17a1e88d7cab3",
   "outputs": [
    {
     "name": "stderr",
     "output_type": "stream",
     "text": [
      "C:\\Users\\hesha\\AppData\\Local\\Temp\\ipykernel_11976\\3325062619.py:2: SettingWithCopyWarning: \n",
      "A value is trying to be set on a copy of a slice from a DataFrame\n",
      "\n",
      "See the caveats in the documentation: https://pandas.pydata.org/pandas-docs/stable/user_guide/indexing.html#returning-a-view-versus-a-copy\n",
      "  df_known.drop(columns=[\"day_id\"], inplace=True)\n"
     ]
    }
   ],
   "execution_count": 770
  },
  {
   "metadata": {
    "ExecuteTime": {
     "end_time": "2024-06-22T14:48:58.017029Z",
     "start_time": "2024-06-22T14:48:57.987706Z"
    }
   },
   "cell_type": "code",
   "source": "df_known.head(100)",
   "id": "9d8f115621fcf47b",
   "outputs": [
    {
     "data": {
      "text/plain": [
       "              condition_text  wind_kph  wind_degree  pressure_mb  precip_mm  \\\n",
       "2    Light Rain with Thunder       3.6           10       1011.0        4.5   \n",
       "3            Clear and Sunny       6.1          150       1018.0        0.0   \n",
       "6              Partly Cloudy       4.0          310       1015.0        0.0   \n",
       "18           Clear and Sunny       3.6           64       1017.0        0.0   \n",
       "27             Partly Cloudy       3.6           83       1010.0        0.0   \n",
       "..                       ...       ...          ...          ...        ...   \n",
       "637          Clear and Sunny       6.1          190       1018.0        0.0   \n",
       "638          Clear and Sunny       6.8          150       1013.0        0.0   \n",
       "646          Clear and Sunny      16.9          190       1015.0        0.0   \n",
       "647          Clear and Sunny       9.0          150       1011.0        0.0   \n",
       "654          Clear and Sunny       5.8          220       1005.0        0.0   \n",
       "\n",
       "     humidity  cloud  visibility_km  uv_index  air_quality_us-epa-index  \\\n",
       "2         100     75           10.0       1.0                         1   \n",
       "3          88      0           10.0       1.0                         1   \n",
       "6         100     50           10.0       1.0                         2   \n",
       "18         88      0           10.0       1.0                         3   \n",
       "27         73     25           10.0       1.0                         1   \n",
       "..        ...    ...            ...       ...                       ...   \n",
       "637        73      0           10.0       1.0                         3   \n",
       "638        69      0           10.0       1.0                         2   \n",
       "646        77      0           10.0       1.0                         1   \n",
       "647        72      0           10.0       1.0                         1   \n",
       "654        57      8           10.0       1.0                         2   \n",
       "\n",
       "     sun_duration  temperature  \n",
       "2             793         20.0  \n",
       "3             790         17.0  \n",
       "6             783         21.0  \n",
       "18            751         19.0  \n",
       "27            783         19.0  \n",
       "..            ...          ...  \n",
       "637           778         18.0  \n",
       "638           775         21.0  \n",
       "646           745         13.7  \n",
       "647           741         16.0  \n",
       "654           740         34.9  \n",
       "\n",
       "[100 rows x 12 columns]"
      ],
      "text/html": [
       "<div>\n",
       "<style scoped>\n",
       "    .dataframe tbody tr th:only-of-type {\n",
       "        vertical-align: middle;\n",
       "    }\n",
       "\n",
       "    .dataframe tbody tr th {\n",
       "        vertical-align: top;\n",
       "    }\n",
       "\n",
       "    .dataframe thead th {\n",
       "        text-align: right;\n",
       "    }\n",
       "</style>\n",
       "<table border=\"1\" class=\"dataframe\">\n",
       "  <thead>\n",
       "    <tr style=\"text-align: right;\">\n",
       "      <th></th>\n",
       "      <th>condition_text</th>\n",
       "      <th>wind_kph</th>\n",
       "      <th>wind_degree</th>\n",
       "      <th>pressure_mb</th>\n",
       "      <th>precip_mm</th>\n",
       "      <th>humidity</th>\n",
       "      <th>cloud</th>\n",
       "      <th>visibility_km</th>\n",
       "      <th>uv_index</th>\n",
       "      <th>air_quality_us-epa-index</th>\n",
       "      <th>sun_duration</th>\n",
       "      <th>temperature</th>\n",
       "    </tr>\n",
       "  </thead>\n",
       "  <tbody>\n",
       "    <tr>\n",
       "      <th>2</th>\n",
       "      <td>Light Rain with Thunder</td>\n",
       "      <td>3.6</td>\n",
       "      <td>10</td>\n",
       "      <td>1011.0</td>\n",
       "      <td>4.5</td>\n",
       "      <td>100</td>\n",
       "      <td>75</td>\n",
       "      <td>10.0</td>\n",
       "      <td>1.0</td>\n",
       "      <td>1</td>\n",
       "      <td>793</td>\n",
       "      <td>20.0</td>\n",
       "    </tr>\n",
       "    <tr>\n",
       "      <th>3</th>\n",
       "      <td>Clear and Sunny</td>\n",
       "      <td>6.1</td>\n",
       "      <td>150</td>\n",
       "      <td>1018.0</td>\n",
       "      <td>0.0</td>\n",
       "      <td>88</td>\n",
       "      <td>0</td>\n",
       "      <td>10.0</td>\n",
       "      <td>1.0</td>\n",
       "      <td>1</td>\n",
       "      <td>790</td>\n",
       "      <td>17.0</td>\n",
       "    </tr>\n",
       "    <tr>\n",
       "      <th>6</th>\n",
       "      <td>Partly Cloudy</td>\n",
       "      <td>4.0</td>\n",
       "      <td>310</td>\n",
       "      <td>1015.0</td>\n",
       "      <td>0.0</td>\n",
       "      <td>100</td>\n",
       "      <td>50</td>\n",
       "      <td>10.0</td>\n",
       "      <td>1.0</td>\n",
       "      <td>2</td>\n",
       "      <td>783</td>\n",
       "      <td>21.0</td>\n",
       "    </tr>\n",
       "    <tr>\n",
       "      <th>18</th>\n",
       "      <td>Clear and Sunny</td>\n",
       "      <td>3.6</td>\n",
       "      <td>64</td>\n",
       "      <td>1017.0</td>\n",
       "      <td>0.0</td>\n",
       "      <td>88</td>\n",
       "      <td>0</td>\n",
       "      <td>10.0</td>\n",
       "      <td>1.0</td>\n",
       "      <td>3</td>\n",
       "      <td>751</td>\n",
       "      <td>19.0</td>\n",
       "    </tr>\n",
       "    <tr>\n",
       "      <th>27</th>\n",
       "      <td>Partly Cloudy</td>\n",
       "      <td>3.6</td>\n",
       "      <td>83</td>\n",
       "      <td>1010.0</td>\n",
       "      <td>0.0</td>\n",
       "      <td>73</td>\n",
       "      <td>25</td>\n",
       "      <td>10.0</td>\n",
       "      <td>1.0</td>\n",
       "      <td>1</td>\n",
       "      <td>783</td>\n",
       "      <td>19.0</td>\n",
       "    </tr>\n",
       "    <tr>\n",
       "      <th>...</th>\n",
       "      <td>...</td>\n",
       "      <td>...</td>\n",
       "      <td>...</td>\n",
       "      <td>...</td>\n",
       "      <td>...</td>\n",
       "      <td>...</td>\n",
       "      <td>...</td>\n",
       "      <td>...</td>\n",
       "      <td>...</td>\n",
       "      <td>...</td>\n",
       "      <td>...</td>\n",
       "      <td>...</td>\n",
       "    </tr>\n",
       "    <tr>\n",
       "      <th>637</th>\n",
       "      <td>Clear and Sunny</td>\n",
       "      <td>6.1</td>\n",
       "      <td>190</td>\n",
       "      <td>1018.0</td>\n",
       "      <td>0.0</td>\n",
       "      <td>73</td>\n",
       "      <td>0</td>\n",
       "      <td>10.0</td>\n",
       "      <td>1.0</td>\n",
       "      <td>3</td>\n",
       "      <td>778</td>\n",
       "      <td>18.0</td>\n",
       "    </tr>\n",
       "    <tr>\n",
       "      <th>638</th>\n",
       "      <td>Clear and Sunny</td>\n",
       "      <td>6.8</td>\n",
       "      <td>150</td>\n",
       "      <td>1013.0</td>\n",
       "      <td>0.0</td>\n",
       "      <td>69</td>\n",
       "      <td>0</td>\n",
       "      <td>10.0</td>\n",
       "      <td>1.0</td>\n",
       "      <td>2</td>\n",
       "      <td>775</td>\n",
       "      <td>21.0</td>\n",
       "    </tr>\n",
       "    <tr>\n",
       "      <th>646</th>\n",
       "      <td>Clear and Sunny</td>\n",
       "      <td>16.9</td>\n",
       "      <td>190</td>\n",
       "      <td>1015.0</td>\n",
       "      <td>0.0</td>\n",
       "      <td>77</td>\n",
       "      <td>0</td>\n",
       "      <td>10.0</td>\n",
       "      <td>1.0</td>\n",
       "      <td>1</td>\n",
       "      <td>745</td>\n",
       "      <td>13.7</td>\n",
       "    </tr>\n",
       "    <tr>\n",
       "      <th>647</th>\n",
       "      <td>Clear and Sunny</td>\n",
       "      <td>9.0</td>\n",
       "      <td>150</td>\n",
       "      <td>1011.0</td>\n",
       "      <td>0.0</td>\n",
       "      <td>72</td>\n",
       "      <td>0</td>\n",
       "      <td>10.0</td>\n",
       "      <td>1.0</td>\n",
       "      <td>1</td>\n",
       "      <td>741</td>\n",
       "      <td>16.0</td>\n",
       "    </tr>\n",
       "    <tr>\n",
       "      <th>654</th>\n",
       "      <td>Clear and Sunny</td>\n",
       "      <td>5.8</td>\n",
       "      <td>220</td>\n",
       "      <td>1005.0</td>\n",
       "      <td>0.0</td>\n",
       "      <td>57</td>\n",
       "      <td>8</td>\n",
       "      <td>10.0</td>\n",
       "      <td>1.0</td>\n",
       "      <td>2</td>\n",
       "      <td>740</td>\n",
       "      <td>34.9</td>\n",
       "    </tr>\n",
       "  </tbody>\n",
       "</table>\n",
       "<p>100 rows × 12 columns</p>\n",
       "</div>"
      ]
     },
     "execution_count": 771,
     "metadata": {},
     "output_type": "execute_result"
    }
   ],
   "execution_count": 771
  },
  {
   "metadata": {
    "ExecuteTime": {
     "end_time": "2024-06-22T14:48:58.111349Z",
     "start_time": "2024-06-22T14:48:58.096831Z"
    }
   },
   "cell_type": "code",
   "source": "df_known[\"condition_text\"] = df_known[\"condition_text\"].apply(encode_condition_text)",
   "id": "6fa42df69c0d1bf1",
   "outputs": [
    {
     "name": "stderr",
     "output_type": "stream",
     "text": [
      "C:\\Users\\hesha\\AppData\\Local\\Temp\\ipykernel_11976\\3800365567.py:1: SettingWithCopyWarning: \n",
      "A value is trying to be set on a copy of a slice from a DataFrame.\n",
      "Try using .loc[row_indexer,col_indexer] = value instead\n",
      "\n",
      "See the caveats in the documentation: https://pandas.pydata.org/pandas-docs/stable/user_guide/indexing.html#returning-a-view-versus-a-copy\n",
      "  df_known[\"condition_text\"] = df_known[\"condition_text\"].apply(encode_condition_text)\n"
     ]
    }
   ],
   "execution_count": 772
  },
  {
   "metadata": {
    "ExecuteTime": {
     "end_time": "2024-06-22T14:48:58.174535Z",
     "start_time": "2024-06-22T14:48:58.152720Z"
    }
   },
   "cell_type": "code",
   "source": [
    "# Min-Max Scaling\n",
    "minmax_scaler = MinMaxScaler()\n",
    "df_minmax_scaled = pd.DataFrame(minmax_scaler.fit_transform(df_known), columns=df_known.columns)"
   ],
   "id": "63cc1be752a49dbb",
   "outputs": [],
   "execution_count": 773
  },
  {
   "metadata": {
    "ExecuteTime": {
     "end_time": "2024-06-22T14:48:58.236233Z",
     "start_time": "2024-06-22T14:48:58.230225Z"
    }
   },
   "cell_type": "code",
   "source": [
    "X = df_known.drop(columns=[\"condition_text\"])\n",
    "Y = df_known[\"condition_text\"]"
   ],
   "id": "f0f13fc318586d28",
   "outputs": [],
   "execution_count": 774
  },
  {
   "metadata": {
    "ExecuteTime": {
     "end_time": "2024-06-22T14:48:58.330075Z",
     "start_time": "2024-06-22T14:48:58.301512Z"
    }
   },
   "cell_type": "code",
   "source": "X.head()",
   "id": "547dd8d14f5836b1",
   "outputs": [
    {
     "data": {
      "text/plain": [
       "    wind_kph  wind_degree  pressure_mb  precip_mm  humidity  cloud  \\\n",
       "2        3.6           10       1011.0        4.5       100     75   \n",
       "3        6.1          150       1018.0        0.0        88      0   \n",
       "6        4.0          310       1015.0        0.0       100     50   \n",
       "18       3.6           64       1017.0        0.0        88      0   \n",
       "27       3.6           83       1010.0        0.0        73     25   \n",
       "\n",
       "    visibility_km  uv_index  air_quality_us-epa-index  sun_duration  \\\n",
       "2            10.0       1.0                         1           793   \n",
       "3            10.0       1.0                         1           790   \n",
       "6            10.0       1.0                         2           783   \n",
       "18           10.0       1.0                         3           751   \n",
       "27           10.0       1.0                         1           783   \n",
       "\n",
       "    temperature  \n",
       "2          20.0  \n",
       "3          17.0  \n",
       "6          21.0  \n",
       "18         19.0  \n",
       "27         19.0  "
      ],
      "text/html": [
       "<div>\n",
       "<style scoped>\n",
       "    .dataframe tbody tr th:only-of-type {\n",
       "        vertical-align: middle;\n",
       "    }\n",
       "\n",
       "    .dataframe tbody tr th {\n",
       "        vertical-align: top;\n",
       "    }\n",
       "\n",
       "    .dataframe thead th {\n",
       "        text-align: right;\n",
       "    }\n",
       "</style>\n",
       "<table border=\"1\" class=\"dataframe\">\n",
       "  <thead>\n",
       "    <tr style=\"text-align: right;\">\n",
       "      <th></th>\n",
       "      <th>wind_kph</th>\n",
       "      <th>wind_degree</th>\n",
       "      <th>pressure_mb</th>\n",
       "      <th>precip_mm</th>\n",
       "      <th>humidity</th>\n",
       "      <th>cloud</th>\n",
       "      <th>visibility_km</th>\n",
       "      <th>uv_index</th>\n",
       "      <th>air_quality_us-epa-index</th>\n",
       "      <th>sun_duration</th>\n",
       "      <th>temperature</th>\n",
       "    </tr>\n",
       "  </thead>\n",
       "  <tbody>\n",
       "    <tr>\n",
       "      <th>2</th>\n",
       "      <td>3.6</td>\n",
       "      <td>10</td>\n",
       "      <td>1011.0</td>\n",
       "      <td>4.5</td>\n",
       "      <td>100</td>\n",
       "      <td>75</td>\n",
       "      <td>10.0</td>\n",
       "      <td>1.0</td>\n",
       "      <td>1</td>\n",
       "      <td>793</td>\n",
       "      <td>20.0</td>\n",
       "    </tr>\n",
       "    <tr>\n",
       "      <th>3</th>\n",
       "      <td>6.1</td>\n",
       "      <td>150</td>\n",
       "      <td>1018.0</td>\n",
       "      <td>0.0</td>\n",
       "      <td>88</td>\n",
       "      <td>0</td>\n",
       "      <td>10.0</td>\n",
       "      <td>1.0</td>\n",
       "      <td>1</td>\n",
       "      <td>790</td>\n",
       "      <td>17.0</td>\n",
       "    </tr>\n",
       "    <tr>\n",
       "      <th>6</th>\n",
       "      <td>4.0</td>\n",
       "      <td>310</td>\n",
       "      <td>1015.0</td>\n",
       "      <td>0.0</td>\n",
       "      <td>100</td>\n",
       "      <td>50</td>\n",
       "      <td>10.0</td>\n",
       "      <td>1.0</td>\n",
       "      <td>2</td>\n",
       "      <td>783</td>\n",
       "      <td>21.0</td>\n",
       "    </tr>\n",
       "    <tr>\n",
       "      <th>18</th>\n",
       "      <td>3.6</td>\n",
       "      <td>64</td>\n",
       "      <td>1017.0</td>\n",
       "      <td>0.0</td>\n",
       "      <td>88</td>\n",
       "      <td>0</td>\n",
       "      <td>10.0</td>\n",
       "      <td>1.0</td>\n",
       "      <td>3</td>\n",
       "      <td>751</td>\n",
       "      <td>19.0</td>\n",
       "    </tr>\n",
       "    <tr>\n",
       "      <th>27</th>\n",
       "      <td>3.6</td>\n",
       "      <td>83</td>\n",
       "      <td>1010.0</td>\n",
       "      <td>0.0</td>\n",
       "      <td>73</td>\n",
       "      <td>25</td>\n",
       "      <td>10.0</td>\n",
       "      <td>1.0</td>\n",
       "      <td>1</td>\n",
       "      <td>783</td>\n",
       "      <td>19.0</td>\n",
       "    </tr>\n",
       "  </tbody>\n",
       "</table>\n",
       "</div>"
      ]
     },
     "execution_count": 775,
     "metadata": {},
     "output_type": "execute_result"
    }
   ],
   "execution_count": 775
  },
  {
   "metadata": {
    "ExecuteTime": {
     "end_time": "2024-06-22T14:48:58.470196Z",
     "start_time": "2024-06-22T14:48:58.457036Z"
    }
   },
   "cell_type": "code",
   "source": "Y.head()",
   "id": "b3e3494dbd4af5ca",
   "outputs": [
    {
     "data": {
      "text/plain": [
       "2     6\n",
       "3     0\n",
       "6     1\n",
       "18    0\n",
       "27    1\n",
       "Name: condition_text, dtype: int64"
      ]
     },
     "execution_count": 776,
     "metadata": {},
     "output_type": "execute_result"
    }
   ],
   "execution_count": 776
  },
  {
   "metadata": {
    "ExecuteTime": {
     "end_time": "2024-06-22T14:48:58.748015Z",
     "start_time": "2024-06-22T14:48:58.475701Z"
    }
   },
   "cell_type": "code",
   "source": [
    "fs = SelectKBest(score_func=mutual_info_classif, k=10)\n",
    "fs.fit(X, Y)\n",
    "sc = pd.Series(fs.scores_, index=X.columns)\n",
    "sc.sort_values(ascending=False).plot.bar(figsize=(20, 8))"
   ],
   "id": "3a2d58116f966018",
   "outputs": [
    {
     "data": {
      "text/plain": [
       "<Axes: >"
      ]
     },
     "execution_count": 777,
     "metadata": {},
     "output_type": "execute_result"
    },
    {
     "data": {
      "text/plain": [
       "<Figure size 2000x800 with 1 Axes>"
      ],
      "image/png": "[encoded data removed]"
     },
     "metadata": {},
     "output_type": "display_data"
    }
   ],
   "execution_count": 777
  },
  {
   "metadata": {
    "ExecuteTime": {
     "end_time": "2024-06-22T14:48:58.763467Z",
     "start_time": "2024-06-22T14:48:58.750016Z"
    }
   },
   "cell_type": "code",
   "source": [
    "# rfc = RandomForestClassifier(random_state=42)\n",
    "# rfecv = RFECV(estimator=rfc, step=1, cv=StratifiedKFold(5), scoring='accuracy')\n",
    "# rfecv.fit(X, Y)\n",
    "# \n",
    "# print(\"Optimal number of features: %d\" % rfecv.n_features_)\n",
    "# \n",
    "# plt.figure(figsize=(10, 6))\n",
    "# plt.plot(range(1, len(rfecv.cv_results_['mean_test_score']) + 1), rfecv.cv_results_['mean_test_score'])\n",
    "# plt.title(\"Feature Selection using RFE\")\n",
    "# plt.xlabel(\"Number of features selected\")\n",
    "# plt.ylabel(\"Cross-validation score\")\n",
    "# plt.show()\n",
    "# \n",
    "# selected_features = X.columns[rfecv.support_]\n",
    "# print(\"Selected features:\", selected_features)"
   ],
   "id": "b18c46e08f21d2ec",
   "outputs": [],
   "execution_count": 778
  },
  {
   "metadata": {
    "ExecuteTime": {
     "end_time": "2024-06-22T14:48:58.779288Z",
     "start_time": "2024-06-22T14:48:58.768795Z"
    }
   },
   "cell_type": "code",
   "source": [
    "# # Check Class Imbalance\n",
    "# # Assuming your target variable is Y\n",
    "# class_distribution = Y.value_counts()\n",
    "# print(\"Class Distribution:\")\n",
    "# print(class_distribution)\n",
    "# \n",
    "# # Calculate imbalance ratio\n",
    "# imbalance_ratio = class_distribution.max() / class_distribution.min()\n",
    "# print(f\"Imbalance Ratio: {imbalance_ratio:.2f}\")\n",
    "# \n",
    "# # Visualize the distribution\n",
    "# plt.figure(figsize=(10, 6))\n",
    "# class_distribution.plot(kind='bar')\n",
    "# plt.title(\"Class Distribution\")\n",
    "# plt.xlabel(\"Class\")\n",
    "# plt.ylabel(\"Count\")\n",
    "# plt.show()"
   ],
   "id": "b6a1d6dcc8fcb3f8",
   "outputs": [],
   "execution_count": 779
  },
  {
   "metadata": {},
   "cell_type": "markdown",
   "source": "## Train A Random Forest Classifier Model",
   "id": "1328ba21231f5b4"
  },
  {
   "metadata": {
    "ExecuteTime": {
     "end_time": "2024-06-22T14:48:58.795372Z",
     "start_time": "2024-06-22T14:48:58.781288Z"
    }
   },
   "cell_type": "code",
   "source": [
    "class_weights = compute_class_weight('balanced', classes=np.unique(Y), y=Y)\n",
    "class_weight_dict = dict(zip(np.unique(Y), class_weights))"
   ],
   "id": "8422f627d34d465d",
   "outputs": [],
   "execution_count": 780
  },
  {
   "metadata": {
    "ExecuteTime": {
     "end_time": "2024-06-22T14:48:58.810503Z",
     "start_time": "2024-06-22T14:48:58.796320Z"
    }
   },
   "cell_type": "code",
   "source": "x_train , x_test, y_train, y_test = train_test_split(X, Y, test_size=0.2, random_state=42)",
   "id": "1ce168fe72576477",
   "outputs": [],
   "execution_count": 781
  },
  {
   "metadata": {
    "ExecuteTime": {
     "end_time": "2024-06-22T14:48:58.858072Z",
     "start_time": "2024-06-22T14:48:58.811503Z"
    }
   },
   "cell_type": "code",
   "source": [
    "# Apply SMOTE\n",
    "smote = SMOTE(random_state=42)\n",
    "X_train_resampled, y_train_resampled = smote.fit_resample(x_train, y_train)"
   ],
   "id": "387b72114b6d8ba1",
   "outputs": [],
   "execution_count": 782
  },
  {
   "metadata": {
    "ExecuteTime": {
     "end_time": "2024-06-22T14:48:58.873095Z",
     "start_time": "2024-06-22T14:48:58.860584Z"
    }
   },
   "cell_type": "code",
   "source": [
    "feature_weights = np.ones(x_train.shape[1])\n",
    "feature_weights[6] = 2\n",
    "sample_weights = x_train.dot(feature_weights)"
   ],
   "id": "9b959e9c15572c74",
   "outputs": [],
   "execution_count": 783
  },
  {
   "metadata": {
    "ExecuteTime": {
     "end_time": "2024-06-22T14:48:59.029021Z",
     "start_time": "2024-06-22T14:48:59.017661Z"
    }
   },
   "cell_type": "code",
   "source": "print(class_weight_dict)",
   "id": "c8202d22b4e6bf19",
   "outputs": [
    {
     "name": "stdout",
     "output_type": "stream",
     "text": [
      "{np.int64(0): np.float64(0.43624772313296906), np.int64(1): np.float64(0.43624772313296906), np.int64(2): np.float64(0.7826797385620915), np.int64(3): np.float64(1.0041928721174005), np.int64(4): np.float64(1.0644444444444445), np.int64(5): np.float64(2.5343915343915344), np.int64(6): np.float64(3.326388888888889), np.int64(7): np.float64(3.5481481481481483), np.int64(8): np.float64(4.435185185185185)}\n"
     ]
    }
   ],
   "execution_count": 784
  },
  {
   "metadata": {
    "ExecuteTime": {
     "end_time": "2024-06-22T14:48:59.138357Z",
     "start_time": "2024-06-22T14:48:59.113008Z"
    }
   },
   "cell_type": "code",
   "source": "x_test.head()",
   "id": "c0f359f7578d58b1",
   "outputs": [
    {
     "data": {
      "text/plain": [
       "      wind_kph  wind_degree  pressure_mb  precip_mm  humidity  cloud  \\\n",
       "624        9.0          320       1007.0       0.10        94    100   \n",
       "1790      29.9          140       1009.0       0.04        63     50   \n",
       "345        3.6           54       1018.0       2.50        94    100   \n",
       "237       11.2          193       1004.0       0.10        82     80   \n",
       "2715      11.2          330       1002.0       0.00        63     25   \n",
       "\n",
       "      visibility_km  uv_index  air_quality_us-epa-index  sun_duration  \\\n",
       "624            10.0       3.0                         1           822   \n",
       "1790           10.0       7.0                         1           729   \n",
       "345            10.0       1.0                         1           783   \n",
       "237            10.0       1.0                         4           758   \n",
       "2715           10.0       1.0                         3           757   \n",
       "\n",
       "      temperature  \n",
       "624         12.75  \n",
       "1790        32.05  \n",
       "345         15.00  \n",
       "237         30.65  \n",
       "2715        38.85  "
      ],
      "text/html": [
       "<div>\n",
       "<style scoped>\n",
       "    .dataframe tbody tr th:only-of-type {\n",
       "        vertical-align: middle;\n",
       "    }\n",
       "\n",
       "    .dataframe tbody tr th {\n",
       "        vertical-align: top;\n",
       "    }\n",
       "\n",
       "    .dataframe thead th {\n",
       "        text-align: right;\n",
       "    }\n",
       "</style>\n",
       "<table border=\"1\" class=\"dataframe\">\n",
       "  <thead>\n",
       "    <tr style=\"text-align: right;\">\n",
       "      <th></th>\n",
       "      <th>wind_kph</th>\n",
       "      <th>wind_degree</th>\n",
       "      <th>pressure_mb</th>\n",
       "      <th>precip_mm</th>\n",
       "      <th>humidity</th>\n",
       "      <th>cloud</th>\n",
       "      <th>visibility_km</th>\n",
       "      <th>uv_index</th>\n",
       "      <th>air_quality_us-epa-index</th>\n",
       "      <th>sun_duration</th>\n",
       "      <th>temperature</th>\n",
       "    </tr>\n",
       "  </thead>\n",
       "  <tbody>\n",
       "    <tr>\n",
       "      <th>624</th>\n",
       "      <td>9.0</td>\n",
       "      <td>320</td>\n",
       "      <td>1007.0</td>\n",
       "      <td>0.10</td>\n",
       "      <td>94</td>\n",
       "      <td>100</td>\n",
       "      <td>10.0</td>\n",
       "      <td>3.0</td>\n",
       "      <td>1</td>\n",
       "      <td>822</td>\n",
       "      <td>12.75</td>\n",
       "    </tr>\n",
       "    <tr>\n",
       "      <th>1790</th>\n",
       "      <td>29.9</td>\n",
       "      <td>140</td>\n",
       "      <td>1009.0</td>\n",
       "      <td>0.04</td>\n",
       "      <td>63</td>\n",
       "      <td>50</td>\n",
       "      <td>10.0</td>\n",
       "      <td>7.0</td>\n",
       "      <td>1</td>\n",
       "      <td>729</td>\n",
       "      <td>32.05</td>\n",
       "    </tr>\n",
       "    <tr>\n",
       "      <th>345</th>\n",
       "      <td>3.6</td>\n",
       "      <td>54</td>\n",
       "      <td>1018.0</td>\n",
       "      <td>2.50</td>\n",
       "      <td>94</td>\n",
       "      <td>100</td>\n",
       "      <td>10.0</td>\n",
       "      <td>1.0</td>\n",
       "      <td>1</td>\n",
       "      <td>783</td>\n",
       "      <td>15.00</td>\n",
       "    </tr>\n",
       "    <tr>\n",
       "      <th>237</th>\n",
       "      <td>11.2</td>\n",
       "      <td>193</td>\n",
       "      <td>1004.0</td>\n",
       "      <td>0.10</td>\n",
       "      <td>82</td>\n",
       "      <td>80</td>\n",
       "      <td>10.0</td>\n",
       "      <td>1.0</td>\n",
       "      <td>4</td>\n",
       "      <td>758</td>\n",
       "      <td>30.65</td>\n",
       "    </tr>\n",
       "    <tr>\n",
       "      <th>2715</th>\n",
       "      <td>11.2</td>\n",
       "      <td>330</td>\n",
       "      <td>1002.0</td>\n",
       "      <td>0.00</td>\n",
       "      <td>63</td>\n",
       "      <td>25</td>\n",
       "      <td>10.0</td>\n",
       "      <td>1.0</td>\n",
       "      <td>3</td>\n",
       "      <td>757</td>\n",
       "      <td>38.85</td>\n",
       "    </tr>\n",
       "  </tbody>\n",
       "</table>\n",
       "</div>"
      ]
     },
     "execution_count": 785,
     "metadata": {},
     "output_type": "execute_result"
    }
   ],
   "execution_count": 785
  },
  {
   "metadata": {
    "ExecuteTime": {
     "end_time": "2024-06-22T14:50:07.711701Z",
     "start_time": "2024-06-22T14:48:59.203329Z"
    }
   },
   "cell_type": "code",
   "source": [
    "accs, cvss, models = [], [], []\n",
    "for i in range(0,100):\n",
    "    acc, cvs, model = evaluate_model(i)\n",
    "    accs.append(acc)\n",
    "    cvss.append(cvs)\n",
    "    models.append(model)\n",
    "\n",
    "print(f\"Max Validation Accuracy: {max(accs)}, {accs.index(max(accs))}\")\n",
    "print(f\"Max Cross Validation Accuracy: {max(cvss)}, {cvss.index(max(cvss))}\")"
   ],
   "id": "b8959c13dab4f4bd",
   "outputs": [
    {
     "name": "stdout",
     "output_type": "stream",
     "text": [
      "Max Validation Accuracy: 0.75, 56\n",
      "Max Cross Validation Accuracy: 0.7056140350877194, 65\n"
     ]
    }
   ],
   "execution_count": 786
  },
  {
   "metadata": {
    "ExecuteTime": {
     "end_time": "2024-06-22T14:50:07.742804Z",
     "start_time": "2024-06-22T14:50:07.712966Z"
    }
   },
   "cell_type": "code",
   "source": [
    "y_pred = models[accs.index(max(accs))].predict(x_test)\n",
    "print(classification_report(y_test, y_pred))\n",
    "print(f\"Max Validation Accuracy: {max(accs)}, {accs.index(max(accs))}\")\n",
    "print(f\"Max Cross Validation Accuracy: {max(cvss)}, {cvss.index(max(cvss))}\")"
   ],
   "id": "686c867cfdc69521",
   "outputs": [
    {
     "name": "stdout",
     "output_type": "stream",
     "text": [
      "              precision    recall  f1-score   support\n",
      "\n",
      "           0       1.00      1.00      1.00        22\n",
      "           1       0.66      0.96      0.78        26\n",
      "           2       0.64      0.75      0.69        12\n",
      "           3       0.73      0.67      0.70        12\n",
      "           4       0.88      0.88      0.88         8\n",
      "           5       1.00      0.20      0.33         5\n",
      "           6       0.00      0.00      0.00         5\n",
      "           7       0.00      0.00      0.00         2\n",
      "           8       0.00      0.00      0.00         4\n",
      "\n",
      "    accuracy                           0.75        96\n",
      "   macro avg       0.54      0.49      0.49        96\n",
      "weighted avg       0.70      0.75      0.70        96\n",
      "\n",
      "Max Validation Accuracy: 0.75, 56\n",
      "Max Cross Validation Accuracy: 0.7056140350877194, 65\n"
     ]
    },
    {
     "name": "stderr",
     "output_type": "stream",
     "text": [
      "E:\\Personal\\Python\\Predicta\\WeatherClassification\\venv\\lib\\site-packages\\sklearn\\metrics\\_classification.py:1517: UndefinedMetricWarning: Precision is ill-defined and being set to 0.0 in labels with no predicted samples. Use `zero_division` parameter to control this behavior.\n",
      "  _warn_prf(average, modifier, f\"{metric.capitalize()} is\", len(result))\n",
      "E:\\Personal\\Python\\Predicta\\WeatherClassification\\venv\\lib\\site-packages\\sklearn\\metrics\\_classification.py:1517: UndefinedMetricWarning: Precision is ill-defined and being set to 0.0 in labels with no predicted samples. Use `zero_division` parameter to control this behavior.\n",
      "  _warn_prf(average, modifier, f\"{metric.capitalize()} is\", len(result))\n",
      "E:\\Personal\\Python\\Predicta\\WeatherClassification\\venv\\lib\\site-packages\\sklearn\\metrics\\_classification.py:1517: UndefinedMetricWarning: Precision is ill-defined and being set to 0.0 in labels with no predicted samples. Use `zero_division` parameter to control this behavior.\n",
      "  _warn_prf(average, modifier, f\"{metric.capitalize()} is\", len(result))\n"
     ]
    }
   ],
   "execution_count": 787
  },
  {
   "metadata": {},
   "cell_type": "markdown",
   "source": "## Make Predictions And Prepare Submission",
   "id": "15e085a4a2034250"
  },
  {
   "metadata": {
    "ExecuteTime": {
     "end_time": "2024-06-22T14:50:07.774028Z",
     "start_time": "2024-06-22T14:50:07.743803Z"
    }
   },
   "cell_type": "code",
   "source": [
    "x_sub = df_unknown.drop(columns=[\"condition_text\", \"day_id\"])\n",
    "df_unknown['condition_text'] = models[accs.index(max(accs))].predict(x_sub)\n",
    "df_unknown['condition_text'] = df_unknown['condition_text'].apply(decode_condition_text)\n",
    "all_data = pd.concat([df_known_copy, df_unknown], axis=0)\n",
    "all_data = all_data.sort_values(by='day_id')\n",
    "submission_df = all_data[['day_id', 'condition_text']]\n",
    "submission_df.to_csv('final_submission_2.csv', index=False)"
   ],
   "id": "c394837421559a2",
   "outputs": [
    {
     "name": "stderr",
     "output_type": "stream",
     "text": [
      "C:\\Users\\hesha\\AppData\\Local\\Temp\\ipykernel_11976\\923848912.py:2: SettingWithCopyWarning: \n",
      "A value is trying to be set on a copy of a slice from a DataFrame.\n",
      "Try using .loc[row_indexer,col_indexer] = value instead\n",
      "\n",
      "See the caveats in the documentation: https://pandas.pydata.org/pandas-docs/stable/user_guide/indexing.html#returning-a-view-versus-a-copy\n",
      "  df_unknown['condition_text'] = models[accs.index(max(accs))].predict(x_sub)\n",
      "C:\\Users\\hesha\\AppData\\Local\\Temp\\ipykernel_11976\\923848912.py:3: SettingWithCopyWarning: \n",
      "A value is trying to be set on a copy of a slice from a DataFrame.\n",
      "Try using .loc[row_indexer,col_indexer] = value instead\n",
      "\n",
      "See the caveats in the documentation: https://pandas.pydata.org/pandas-docs/stable/user_guide/indexing.html#returning-a-view-versus-a-copy\n",
      "  df_unknown['condition_text'] = df_unknown['condition_text'].apply(decode_condition_text)\n"
     ]
    }
   ],
   "execution_count": 788
  }
 ],
 "metadata": {
  "kernelspec": {
   "display_name": "Python 3",
   "language": "python",
   "name": "python3"
  },
  "language_info": {
   "codemirror_mode": {
    "name": "ipython",
    "version": 2
   },
   "file_extension": ".py",
   "mimetype": "text/x-python",
   "name": "python",
   "nbconvert_exporter": "python",
   "pygments_lexer": "ipython2",
   "version": "2.7.6"
  }
 },
 "nbformat": 4,
 "nbformat_minor": 5
}
